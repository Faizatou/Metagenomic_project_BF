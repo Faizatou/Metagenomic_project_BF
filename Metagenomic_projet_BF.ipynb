{
 "cells": [
  {
   "cell_type": "markdown",
   "id": "4011be25-3dcd-4b8a-9acb-68da4a2699cb",
   "metadata": {},
   "source": [
    "# <span style=\"color:#006E7F\">_ CIBIG Metagenomic water projet analysis__ <a class=\"anchor\"></span>  \n",
    "\n",
    "\n",
    "Created by F. Sorgho (CRUN) and E. Badoum (GRAS) - Novembre 2024\n"
   ]
  },
  {
   "cell_type": "markdown",
   "id": "87d77a13-f12e-4f0f-92f1-d50589873549",
   "metadata": {},
   "source": [
    "# <span style=\"color:#006E7F\">BASECALLING and QC__ <a class=\"anchor\" id=\"data\"></span>  \n",
    "    \n",
    "## <span style=\"color: #4CACBC;\"> Creating the folder, downloading data and so on</span>  \n"
   ]
  },
  {
   "cell_type": "markdown",
   "id": "72b48acd-520f-47a6-ad65-2d9d55724acf",
   "metadata": {},
   "source": [
    "### <span style=\"color: #4CACBD;\"> 1. Data </span>\n",
    "\n",
    "We will analyse a Freshwater Samples (Urban et al., 2021; https://elifesciences.org/articles/61504).  "
   ]
  },
  {
   "cell_type": "code",
   "execution_count": null,
   "id": "3735265a-66e6-4ddd-9d79-487254de54d9",
   "metadata": {},
   "outputs": [],
   "source": [
    "cd ~/projet_BS\n",
    "mkdir -p Data\n",
    "cd Data\n",
    "# download your compressed Freshwater Sample, https://www.ebi.ac.uk/ena/browser/view/PRJEB34900 ERR3806859_1-ERR3806892_1\n",
    "wget -nc ftp://ftp.sra.ebi.ac.uk/vol1/fastq/ERR380/009/ERR3806859/ERR3806859_1.fastq.gz\n",
    "wget -nc ftp://ftp.sra.ebi.ac.uk/vol1/fastq/ERR380/006/ERR3806876/ERR3806876_1.fastq.gz\n",
    "wget -nc ftp://ftp.sra.ebi.ac.uk/vol1/fastq/ERR380/000/ERR3806860/ERR3806860_1.fastq.gz"
   ]
  },
  {
   "cell_type": "markdown",
   "id": "210c527b-3d1d-4073-9843-8d36ffe4e30b",
   "metadata": {},
   "source": [
    "## <span style=\"color: #4CACBC;\"> 2. Basecalling </span>  \n",
    "\n",
    "Electrical signals are stocked on fast5 format files when DNA molecules are sequenced.\n",
    "\n",
    "These signals need to be converted on standard fastq files to post-analysis.\n",
    "\n",
    "Several training dataset models are usually used to convert fast5 to fastq. \n",
    "For this Job we used Guppy  "
   ]
  },
  {
   "cell_type": "markdown",
   "id": "16db1c0a-976a-4c23-bc70-66af21424b55",
   "metadata": {},
   "source": [
    "## <span style=\"color: #4CACBC;\"> 3. Quality Control on Long Reads with Nanoplot </span>  "
   ]
  },
  {
   "cell_type": "markdown",
   "id": "ce51c478-6563-43e5-a651-3a211bc328f6",
   "metadata": {},
   "source": [
    "Control reads quality using Nanoplot. You can parameter this tool using --help."
   ]
  },
  {
   "cell_type": "code",
   "execution_count": null,
   "id": "f48b3574-6ed0-4aee-868b-e0cea2647fbf",
   "metadata": {},
   "outputs": [],
   "source": [
    "NanoPlot --help"
   ]
  },
  {
   "cell_type": "code",
   "execution_count": null,
   "id": "eab5cff8-ed7b-4d1b-a891-7f3678ee9b17",
   "metadata": {},
   "outputs": [],
   "source": [
    "Install Nanoplot/1.44.0\n",
    "NanoPlot -t 8 --fastq ~/projet_BS/Data/*fastq.gz --outdir NANOPLOT_files"
   ]
  },
  {
   "cell_type": "code",
   "execution_count": null,
   "id": "5e2e203c-f704-480e-a359-cfd4a4f9c805",
   "metadata": {},
   "outputs": [],
   "source": [
    "#test for one sample\n",
    "NanoPlot --fastq /home/faiza/Downloads/projet_turore/database_initial/ERR3806875_1.fastq.gz --outdir ./output "
   ]
  },
  {
   "cell_type": "code",
   "execution_count": null,
   "id": "1496d2cc-3614-4096-8046-8174ca291388",
   "metadata": {},
   "outputs": [],
   "source": [
    "# for all of sample\n",
    "NanoPlot --fastq /home/faiza/Downloads/projet_turore/database_initial/ERR38068*.fastq.gz --outdir ./output_combined"
   ]
  },
  {
   "cell_type": "markdown",
   "id": "08842185-aa02-42e0-b220-df0610cf3ca4",
   "metadata": {},
   "source": [
    "Observe Stats"
   ]
  },
  {
   "cell_type": "markdown",
   "id": "45b9a3f8-19f6-4f43-b737-f094351b9945",
   "metadata": {},
   "source": [
    "## <span style=\"color: #4CACBC;\"> Use KRAKEN2 for taxonomic assignation<a class=\"anchor\" id=\"kraken2\"> </span>\n"
   ]
  },
  {
   "cell_type": "raw",
   "id": "7e4ffca1-bbca-41b4-860f-144e0a3518c9",
   "metadata": {},
   "source": [
    "Kraken is a taxonomic sequence classifier that assigns taxonomic labels to DNA sequences. Kraken examines the k-mers within a query sequence and uses the information within those k-mers to query a database. That database maps k-mers to the lowest common ancestor (LCA) of all genomes known to contain a given k-mer."
   ]
  },
  {
   "cell_type": "markdown",
   "id": "730faec7-8a97-4efe-a9c4-f625885fadfe",
   "metadata": {},
   "source": [
    "### <span style=\"color: #4CACBC;\"> 3.1. Download a bacterial database<a class=\"anchor\" id=\"viraldb\"> </span>"
   ]
  },
  {
   "cell_type": "code",
   "execution_count": null,
   "id": "c1d4a5b4-f4f4-4606-bb8b-9a7b9167edfd",
   "metadata": {},
   "outputs": [],
   "source": [
    "Kraken2 --help"
   ]
  },
  {
   "cell_type": "code",
   "execution_count": null,
   "id": "f472125e-2e81-48f9-9cc3-4d42d9e5c246",
   "metadata": {},
   "outputs": [],
   "source": [
    "kraken2-build --special \"silva\" --db kraken_database/.\n"
   ]
  },
  {
   "cell_type": "raw",
   "id": "fffc95e0-4b9e-433f-b1e1-96d07334cd47",
   "metadata": {},
   "source": [
    "The SILVA database contains taxonomic information for Bacteria, Archaea and Eukarya domains. It is based primarily on phylogenies for small subunit rRNAs (16S for prokaryotes and 18S for Eukarya)."
   ]
  },
  {
   "cell_type": "code",
   "execution_count": null,
   "id": "e59b9f92-b8e5-4310-985a-131bc2ff9866",
   "metadata": {},
   "outputs": [],
   "source": [
    "# Inspect the database content\n",
    "kraken2-inspect --db kraken_database | head -15"
   ]
  },
  {
   "cell_type": "markdown",
   "id": "89f901e5-c09a-4319-823f-d04be24794d1",
   "metadata": {},
   "source": [
    "### <span style=\"color: #4CACBC;\"> 3.2. run Kraken2 <a class=\"anchor\" id=\"kraken\"> </span>"
   ]
  },
  {
   "cell_type": "code",
   "execution_count": null,
   "id": "50a113ab-601c-4ef0-87af-ae2cddb02333",
   "metadata": {},
   "outputs": [],
   "source": [
    "kraken2 --db kraken_database/ /projects/medium/CIBIG_metagenomic_eaux/RAW_DATA/FASTQ_DIR/ERR38068*.fastq.gz --report report.txt --report-minimizer-data --> output_kraken"
   ]
  },
  {
   "cell_type": "markdown",
   "id": "467c4c4f-325c-44b2-802b-869dca60f1d0",
   "metadata": {},
   "source": [
    "### <span style=\"color: #4CACBC;\"> 3.3. Vizualise kraken2 output with krona<a class=\"anchor\" id=\"krakenkrona\"> </span>"
   ]
  },
  {
   "cell_type": "code",
   "execution_count": null,
   "id": "004507f1-4b5c-47b5-bbbc-a578030134af",
   "metadata": {},
   "outputs": [],
   "source": [
    "ktImportTaxonomy -m 3 -t 5 report.txt -o kraken.html 2> krakenkrona.err"
   ]
  },
  {
   "cell_type": "markdown",
   "id": "4e047892-cf16-4518-87d3-453e0447eb1b",
   "metadata": {},
   "source": [
    "## <span style=\"color: #4CACBC;\"> 4. Use Diamond for taxonomic assignation<a class=\"anchor\" id=\"diamond\"> </span>"
   ]
  },
  {
   "cell_type": "markdown",
   "id": "0d5779fe-565d-45e0-9347-76c27c14164d",
   "metadata": {},
   "source": [
    "### <span style=\"color: #4CACBC;\"> 4.1. Download bacteria bank<a class=\"anchor\" id=\"bacteriadbdiamond\"> </span>¶"
   ]
  },
  {
   "cell_type": "code",
   "execution_count": null,
   "id": "ca4ece95-a5b1-4bc8-9e5f-7ae474880405",
   "metadata": {},
   "outputs": [],
   "source": [
    "Set paths to your directories and files\n",
    "input_dir=\"/projects/medium/CIBIG_metagenomic_eaux/RAW_DATA/FASTQ_DIR\"      # Directory containing the FASTQ files\n",
    "output_dir=\"/home/sorgho/output_dir/DIAMOND_Results\"      # Directory where the DIAMOND results will be saved\n",
    "diamond_db=\"/diamond/database\"    # Path to your DIAMOND protein database\n",
    "diamond_exec=\"diamond\"                    # DIAMOND executable (assuming it's in the PATH)"
   ]
  },
  {
   "cell_type": "markdown",
   "id": "b048b923-0f6d-4d57-a34a-67d009864d90",
   "metadata": {},
   "source": [
    "### <span style=\"color: #4CACBC;\"> 4.2. Run Diamond<a class=\"anchor\" id=\"bacteriadbdiamond\"> </span>¶"
   ]
  },
  {
   "cell_type": "code",
   "execution_count": 1,
   "id": "a2da85d1-cf98-475e-96f8-49b6fa9f653e",
   "metadata": {},
   "outputs": [
    {
     "ename": "SyntaxError",
     "evalue": "invalid syntax (3032097987.py, line 1)",
     "output_type": "error",
     "traceback": [
      "\u001b[0;36m  Cell \u001b[0;32mIn[1], line 1\u001b[0;36m\u001b[0m\n\u001b[0;31m    mkdir -p DIAMOND_Results\u001b[0m\n\u001b[0m             ^\u001b[0m\n\u001b[0;31mSyntaxError\u001b[0m\u001b[0;31m:\u001b[0m invalid syntax\n"
     ]
    }
   ],
   "source": [
    "mkdir -p DIAMOND_Results\n",
    "\n",
    "# Loop through each FASTQ file in the input directory\n",
    "for fastq_file in $input_dir/*.fastq.gz; do\n",
    "    # Extract the base name of the FASTQ file (without path and extension)\n",
    "    filename=$(basename \"$fastq_file\" .fastq.gz)\n",
    "\n",
    "    # Define output files for DIAMOND results\n",
    "    diamond_output=\"$output_dir/${filename}_diamond_output.dmnd\"\n",
    "    diamond_report=\"$output_dir/${filename}_diamond_report.txt\"\n",
    "\n",
    "    # Run DIAMOND alignment (using blastx for nucleotide-to-protein alignment)\n",
    "    echo \"Running DIAMOND for $fastq_file ...\"\n",
    "    $diamond_exec blastx \\\n",
    "        --db $diamond_db \\\n",
    "        --query $fastq_file \\\n",
    "        --out $diamond_output \\\n",
    "        --outfmt 6 \\\n",
    "        --threads 4 \\\n",
    "        --more-sensitive \\\n",
    "        --verbose \\\n",
    "        --report $diamond_report\n",
    "\n",
    "    # Check if DIAMOND was successful\n",
    "    if [ $? -eq 0 ]; then\n",
    "        echo \"DIAMOND analysis completed for $fastq_file. Results saved to $diamond_output and $diamond_report.\"\n",
    "    else\n",
    "        echo \"Error: DIAMOND failed for $fastq_file.\"\n",
    "    fi\n",
    "done\n",
    "\n",
    "echo \"All FASTQ files have been processed.\""
   ]
  },
  {
   "cell_type": "markdown",
   "id": "e1b70fd3-4a24-4aa1-8015-043998647386",
   "metadata": {},
   "source": [
    "## <span style=\"color: #4CACBC;\"> 5. Use Canu for Assembly<a class=\"anchor\" id=\"diamond\"> </span>"
   ]
  },
  {
   "cell_type": "markdown",
   "id": "6049067f-79b3-4ebd-aa53-6813e299e19e",
   "metadata": {},
   "source": [
    "### <span style=\"color: #4CACBC;\"> 5.1. Define variables<a class=\"anchor\" id=\"bacteriadbdiamond\"> </span>¶"
   ]
  },
  {
   "cell_type": "code",
   "execution_count": null,
   "id": "ec2f43e8-aeb7-4040-9e56-dc9ca0f0b744",
   "metadata": {},
   "outputs": [],
   "source": [
    "# Define variables\n",
    "INPUT_DIR=\"/projects/medium/CIBIG_metagenomic_eaux/RAW_DATA/FASTQ_DIR\"  # Replace with actual path\n",
    "GENOME_SIZE=\"2.0m\"          # Estimated genome size for a metagenomic project. Adjust if necessary.\n",
    "OUTPUT_ROOT_DIR=\"output_dir\"  # Directory where results will be saved.\n",
    "PREFIX=\"16S_assembly\"         # Output file prefix.\n",
    "THREADS=4                     # Number of threads (adjust according to your hardware).\n",
    "# Loop to process each FASTQ file in the input directory\n",
    "for fastq_file in $INPUT_DIR/*.fastq.gz; do\n",
    "  # Extract file name without extension\n",
    "  filename=$(basename \"$fastq_file\" .fastq.gz)\n",
    "\n",
    "  # Define the specific output directory for each FASTQ file\n",
    "  OUTPUT_DIR=\"$OUTPUT_ROOT_DIR/${filename}_16S_assembly\"\n",
    "\n",
    "  # Create output directory if necessary\n",
    "  mkdir -p $OUTPUT_DIR"
   ]
  },
  {
   "cell_type": "markdown",
   "id": "d5453741-e3fd-4724-8b51-49e3195ad280",
   "metadata": {},
   "source": [
    "### <span style=\"color: #4CACBC;\"> 5.2. Run Canu<a class=\"anchor\" id=\"bacteriadbdiamond\"> </span>¶"
   ]
  },
  {
   "cell_type": "code",
   "execution_count": null,
   "id": "f81b4c0c-db27-4a81-8637-7b0d74a13301",
   "metadata": {},
   "outputs": [],
   "source": [
    "Run CANU for each FASTQ file\n",
    "  echo \"Process of $fastq_file ...\"\n",
    "  canu -p $PREFIX -d $OUTPUT_DIR genomeSize=$GENOME_SIZE -nanopore-raw $fastq_file\n",
    "\n",
    "  echo \"Analysis complete for $fastq_file. Results in $OUTPUT_DIR.\"\n",
    "done\n",
    "\n",
    "echo \"All FASTQ files have been processed.\"\n",
    "\n",
    "# Optional: monitor logs in real time during execution\n",
    "# This will allow you to track assembly logs\n",
    "tail -f $OUTPUT_ROOT_DIR/*/*.log"
   ]
  }
 ],
 "metadata": {
  "kernelspec": {
   "display_name": "Python 3 (ipykernel)",
   "language": "python",
   "name": "python3"
  },
  "language_info": {
   "codemirror_mode": {
    "name": "ipython",
    "version": 3
   },
   "file_extension": ".py",
   "mimetype": "text/x-python",
   "name": "python",
   "nbconvert_exporter": "python",
   "pygments_lexer": "ipython3",
   "version": "3.10.12"
  }
 },
 "nbformat": 4,
 "nbformat_minor": 5
}
